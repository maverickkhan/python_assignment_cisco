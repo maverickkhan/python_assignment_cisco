{
 "cells": [
  {
   "cell_type": "code",
   "execution_count": null,
   "metadata": {},
   "outputs": [],
   "source": [
    "Stands for \"Object-Oriented Programming.\" OOP (not Oops!) refers to a programming methodology based on objects, instead of just functions and procedures. These objects are organized into classes, which allow individual objects to be grouped together. Most modern programming languages including Java, C/C++, and PHP, are object-oriented languages, and many older programming languages now have object-oriented versions."
   ]
  },
  {
   "cell_type": "code",
   "execution_count": null,
   "metadata": {},
   "outputs": [],
   "source": [
    "Object-oriented programming fosters reusability. A computer program is written in the form of objects and classes, which can be reused in other projects as well."
   ]
  },
  {
   "cell_type": "code",
   "execution_count": null,
   "metadata": {},
   "outputs": [],
   "source": [
    "The modular approach used in object-oriented programming results in highly maintainable code"
   ]
  },
  {
   "cell_type": "code",
   "execution_count": null,
   "metadata": {},
   "outputs": [],
   "source": [
    "In object-oriented programming, every class has a specific task. If an error occurs in one part of the code, you can rectify it locally without having to affect other parts of the code"
   ]
  },
  {
   "cell_type": "code",
   "execution_count": null,
   "metadata": {},
   "outputs": [],
   "source": [
    "Data encapsulation (which we will study later in the article) adds an extra layer of security to the program developed using the object-oriented approach."
   ]
  },
  {
   "cell_type": "code",
   "execution_count": null,
   "metadata": {},
   "outputs": [],
   "source": [
    "“””Differentiate between function and method?”””\n",
    "A function is a piece of code that is called by name. It can be passed data to operate on (i.e. the parameters) and can optionally return data (the return value). All data that is passed to a function is explicitly passed.\n",
    "A method is a piece of code that is called by a name that is associated with an object. In most respects it is identical to a function except for two key differences\n",
    "A method is implicitly passed the object on which it was called.A method is able to operate on data that is contained within the class (remembering that an object is an instance of a class - the class is the definition, the object is an instance of that data\n"
   ]
  },
  {
   "cell_type": "code",
   "execution_count": null,
   "metadata": {},
   "outputs": [],
   "source": [
    "\"\"\"DEFINE\"\"\"\n",
    "The Class name is an identifier, which is the user-defined data type name.The member attributes hold data just like variables which can be accessed by the member attributes only via particular class/objects.The member functions may have productive behaviors or may be designed to do some operations with member attributes just like normal functions, but the member functions can be accessed only via the corresponding class or its objects.\n",
    "An object is an instance of a class. A class is only a prototype. Which doesn't have any memory for storing value(which is exceptional for static members). Objects are the instances of a class. Simply speaking, It may be defined as a variable of user-defined datatype classes. Through an object or instance, all classes member variables and member functions.\n",
    "All classes create objects, and all objects contain characteristics called attributes (referred to as properties in the opening paragraph). Use the method to initialize (e.g., specify) an object’s initial attributes by giving them their default value (or state). This method must have at least one argument as well as the variable, which refers to the object itself\n",
    "behavior can be defined as how an object acts\n"
   ]
  },
  {
   "cell_type": "code",
   "execution_count": 6,
   "metadata": {},
   "outputs": [
    {
     "name": "stdout",
     "output_type": "stream",
     "text": [
      "Car is moving forward/backward\n",
      "Car is turning\n",
      "car is being stopped\n"
     ]
    }
   ],
   "source": [
    "class car:\n",
    "    def drive(self):\n",
    "        print(\"Car is moving forward/backward\")\n",
    "    def direction(self):\n",
    "        print(\"Car is turning\")\n",
    "    def brake(self):\n",
    "        print(\"car is being stopped\")\n",
    "\n",
    "model = car()\n",
    "color = car()\n",
    "name = car()\n",
    "engine = car()\n",
    "variant = car()\n",
    "\n",
    "car.drive(model)\n",
    "car.direction(model)\n",
    "car.brake(model)"
   ]
  },
  {
   "cell_type": "code",
   "execution_count": null,
   "metadata": {},
   "outputs": [],
   "source": []
  }
 ],
 "metadata": {
  "kernelspec": {
   "display_name": "Python 3",
   "language": "python",
   "name": "python3"
  }
 },
 "nbformat": 4,
 "nbformat_minor": 2
}
