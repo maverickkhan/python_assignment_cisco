{
 "cells": [
  {
   "cell_type": "code",
   "execution_count": 1,
   "metadata": {},
   "outputs": [
    {
     "name": "stdout",
     "output_type": "stream",
     "text": [
      "Abdul\n",
      "Hai\n",
      "21\n",
      "Karachi\n",
      "intermediate\n",
      "{'first_name': 'Abdul', 'last_name': 'Hai', 'age': 21, 'city': 'Karachi', 'qualification': 'intermediate'}\n",
      "{'first_name': 'Abdul', 'last_name': 'Hai', 'age': 21, 'city': 'Karachi', 'qualification': 'graduate'}\n",
      "{'first_name': 'Abdul', 'last_name': 'Hai', 'age': 21, 'city': 'Karachi'}\n"
     ]
    }
   ],
   "source": [
    "person = {\n",
    "    'first_name': 'Abdul',\n",
    "    'last_name': 'Hai',\n",
    "    'age': 21,\n",
    "    'city': 'Karachi',\n",
    "    }\n",
    "\n",
    "print(person['first_name'])\n",
    "print(person['last_name'])\n",
    "print(person['age'])\n",
    "print(person['city'])\n",
    "\n",
    "person['qualification'] = 'intermediate'\n",
    "print(person['qualification'])\n",
    "print(person)\n",
    "person.update(qualification = 'graduate')\n",
    "print(person)\n",
    "del person['qualification']\n",
    "print(person)\n"
   ]
  },
  {
   "cell_type": "code",
   "execution_count": 2,
   "metadata": {},
   "outputs": [
    {
     "name": "stdout",
     "output_type": "stream",
     "text": [
      "\n",
      "Karachi is in Pakistan.\n",
      "  It has a population of about 21000000.\n",
      "  The Lyari River river is nearby.\n",
      "\n",
      "Madinah is in Saudia Arabia.\n",
      "  It has a population of about 11000000.\n",
      "  The Wadi Al-Khalk river is nearby.\n",
      "\n",
      "Mecca is in Saudia Arabia.\n",
      "  It has a population of about 15000000.\n",
      "  The Wadi Al-Hamd river is nearby.\n"
     ]
    }
   ],
   "source": [
    "cities = {\n",
    "    'Karachi': {\n",
    "        'country': 'Pakistan',\n",
    "        'population': 21000000,\n",
    "        'nearby river': 'Lyari River',\n",
    "        },\n",
    "    'Madinah': {\n",
    "        'country': 'Saudia Arabia',\n",
    "        'population': 11000000,\n",
    "        'nearby river': 'Wadi Al-Khalk',\n",
    "        },\n",
    "    'Mecca': {\n",
    "        'country': 'Saudia Arabia',\n",
    "        'population': 15000000,\n",
    "        'nearby river': 'Wadi Al-Hamd',\n",
    "        }\n",
    "    }\n",
    "\n",
    "for city, city_info in cities.items():\n",
    "    country = city_info['country'].title()\n",
    "    population = city_info['population']\n",
    "    river = city_info['nearby river'].title()\n",
    "\n",
    "    print(\"\\n\" + city.title() + \" is in \" + country + \".\")\n",
    "    print(\"  It has a population of about \" + str(population) + \".\")\n",
    "    print(\"  The \" + river + \" river is nearby.\")"
   ]
  },
  {
   "cell_type": "code",
   "execution_count": 5,
   "metadata": {},
   "outputs": [
    {
     "name": "stdout",
     "output_type": "stream",
     "text": [
      "How old are you?\n",
      "Enter your age. 2\n",
      "  You get in free!\n",
      "How old are you?\n",
      "Enter your age. 5\n",
      "  Your ticket is $10.\n",
      "How old are you?\n",
      "Enter your age. 15\n",
      "  Your ticket is $15.\n",
      "How old are you?\n",
      "Enter your age. \n"
     ]
    },
    {
     "ename": "ValueError",
     "evalue": "invalid literal for int() with base 10: ''",
     "output_type": "error",
     "traceback": [
      "\u001b[1;31m---------------------------------------------------------------------------\u001b[0m",
      "\u001b[1;31mValueError\u001b[0m                                Traceback (most recent call last)",
      "\u001b[1;32m<ipython-input-5-a7f13b07ff37>\u001b[0m in \u001b[0;36m<module>\u001b[1;34m\u001b[0m\n\u001b[0;32m      5\u001b[0m     \u001b[1;32mif\u001b[0m \u001b[0mage\u001b[0m \u001b[1;33m==\u001b[0m \u001b[1;34m'quit'\u001b[0m\u001b[1;33m:\u001b[0m\u001b[1;33m\u001b[0m\u001b[1;33m\u001b[0m\u001b[0m\n\u001b[0;32m      6\u001b[0m         \u001b[1;32mbreak\u001b[0m\u001b[1;33m\u001b[0m\u001b[1;33m\u001b[0m\u001b[0m\n\u001b[1;32m----> 7\u001b[1;33m     \u001b[0mage\u001b[0m \u001b[1;33m=\u001b[0m \u001b[0mint\u001b[0m\u001b[1;33m(\u001b[0m\u001b[0mage\u001b[0m\u001b[1;33m)\u001b[0m\u001b[1;33m\u001b[0m\u001b[1;33m\u001b[0m\u001b[0m\n\u001b[0m\u001b[0;32m      8\u001b[0m \u001b[1;33m\u001b[0m\u001b[0m\n\u001b[0;32m      9\u001b[0m     \u001b[1;32mif\u001b[0m \u001b[0mage\u001b[0m \u001b[1;33m<\u001b[0m \u001b[1;36m3\u001b[0m\u001b[1;33m:\u001b[0m\u001b[1;33m\u001b[0m\u001b[1;33m\u001b[0m\u001b[0m\n",
      "\u001b[1;31mValueError\u001b[0m: invalid literal for int() with base 10: ''"
     ]
    }
   ],
   "source": [
    "prompt = \"How old are you?\"\n",
    "prompt += \"\\nEnter your age. \"\n",
    "while True:\n",
    "    age = input(prompt)\n",
    "    if age == 'quit':\n",
    "        break\n",
    "    age = int(age)\n",
    "\n",
    "    if age < 3:\n",
    "        print(\"  You get in free!\")\n",
    "    elif age < 13:\n",
    "        print(\"  Your ticket is $10.\")\n",
    "    else:\n",
    "        print(\"  Your ticket is $15.\")"
   ]
  },
  {
   "cell_type": "code",
   "execution_count": 4,
   "metadata": {},
   "outputs": [
    {
     "name": "stdout",
     "output_type": "stream",
     "text": [
      "The Rust Programming Language is one of my favorite books.\n"
     ]
    }
   ],
   "source": [
    "def favorite_book(title):\n",
    "    \"\"\"Display a message about someone's favorite book.\"\"\"\n",
    "    print(title + \" is one of my favorite books.\")\n",
    "\n",
    "favorite_book('The Rust Programming Language')"
   ]
  },
  {
   "cell_type": "code",
   "execution_count": 7,
   "metadata": {},
   "outputs": [
    {
     "name": "stdout",
     "output_type": "stream",
     "text": [
      "Hello! What is your name?\n",
      "Abdul Hai\n",
      "Well, Abdul Hai, I am thinking of a number between 1 and 30.\n",
      "Take a guess.\n",
      "3\n",
      "Your guess is too low.\n",
      "Take a guess.\n",
      "10\n",
      "Your guess is too low.\n",
      "Take a guess.\n",
      "20\n",
      "Your guess is too low.\n"
     ]
    }
   ],
   "source": [
    "import random\n",
    "guessesTaken = 0\n",
    "print('Hello! What is your name?')\n",
    "myName = input()\n",
    "number = random.randint(1, 30)\n",
    "print('Well, ' + myName + ', I am thinking of a number between 1 and 30.')\n",
    "while guessesTaken < 3:\n",
    "        print('Take a guess.') # There are four spaces in front of print.\n",
    "        guess = input()\n",
    "        guess = int(guess)\n",
    "        guessesTaken = guessesTaken + 1\n",
    "        if guess < number:\n",
    "            print('Your guess is too low.') # There are eight spaces in front of print.\n",
    "        if guess > number:\n",
    "            print('Your guess is too high.')\n",
    "        if guess == number:\n",
    "            break\n",
    "        if guess == number:\n",
    "            guessesTaken = str(guessesTaken)\n",
    "            print('Good job, ' + myName + '! You guessed my number in ' + guessesTaken + ' guesses!')\n",
    "            if guess != number:\n",
    "                number = str(number)\n",
    "            print('Nope. The number I was thinking of was ' + number)"
   ]
  },
  {
   "cell_type": "code",
   "execution_count": null,
   "metadata": {},
   "outputs": [],
   "source": []
  }
 ],
 "metadata": {
  "kernelspec": {
   "display_name": "Python 3",
   "language": "python",
   "name": "python3"
  },
  "language_info": {
   "codemirror_mode": {
    "name": "ipython",
    "version": 3
   },
   "file_extension": ".py",
   "mimetype": "text/x-python",
   "name": "python",
   "nbconvert_exporter": "python",
   "pygments_lexer": "ipython3",
   "version": "3.7.4"
  }
 },
 "nbformat": 4,
 "nbformat_minor": 2
}
